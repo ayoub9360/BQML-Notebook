{
 "cells": [
  {
   "cell_type": "markdown",
   "id": "86c4cc4c-47e5-4412-8688-215d5ec58bec",
   "metadata": {
    "tags": []
   },
   "source": [
    "# **ML Coaching notebook**"
   ]
  },
  {
   "cell_type": "markdown",
   "id": "09442aed-7d32-42ac-a5fb-f1adda10c0cb",
   "metadata": {},
   "source": [
    "## **Table of content**\n",
    "1. [Installation](#Installation)\n",
    "2. [Data exploration](#exploration)"
   ]
  },
  {
   "cell_type": "markdown",
   "id": "9d96261c-14f9-4c1b-a0b3-9d68e05d9313",
   "metadata": {},
   "source": [
    "## **Installation** <a name=\"Installation\"></a>"
   ]
  },
  {
   "cell_type": "markdown",
   "id": "64416055-8e7d-4bba-b64e-6b7ecbfd286d",
   "metadata": {},
   "source": [
    "If you have any problem to run BigQuery request, install **Google Cloud BigQuery** with this command\n",
    "\n",
    "`%pip install --upgrade google-cloud-bigquery`\n",
    "\n",
    "If you still have some errors, use the Big Query API with the --use_rest_api flag in your requests.\n",
    "\n",
    "**Exemple:** `%%bigquery --use_rest_api SELECT * FROM *`"
   ]
  },
  {
   "cell_type": "markdown",
   "id": "7c2c593b-e802-4834-9be9-794972677cff",
   "metadata": {},
   "source": [
    "## **Data exploration** <a name=\"exploration\"></a>"
   ]
  },
  {
   "cell_type": "markdown",
   "id": "962cd463-4707-4722-b055-6c831a2c3b58",
   "metadata": {},
   "source": [
    "### First and Last event date"
   ]
  },
  {
   "cell_type": "code",
   "execution_count": 8,
   "id": "0ae5fad9-750d-449c-92df-7123dc1f6596",
   "metadata": {},
   "outputs": [
    {
     "data": {
      "application/vnd.jupyter.widget-view+json": {
       "model_id": "456eaaabb713499dbc28b2a9d61a9669",
       "version_major": 2,
       "version_minor": 0
      },
      "text/plain": [
       "Query is running:   0%|          |"
      ]
     },
     "metadata": {},
     "output_type": "display_data"
    },
    {
     "data": {
      "application/vnd.jupyter.widget-view+json": {
       "model_id": "3660f4dc31e74fde84620bec9807b252",
       "version_major": 2,
       "version_minor": 0
      },
      "text/plain": [
       "Downloading:   0%|          |"
      ]
     },
     "metadata": {},
     "output_type": "display_data"
    },
    {
     "data": {
      "text/html": [
       "<div>\n",
       "<style scoped>\n",
       "    .dataframe tbody tr th:only-of-type {\n",
       "        vertical-align: middle;\n",
       "    }\n",
       "\n",
       "    .dataframe tbody tr th {\n",
       "        vertical-align: top;\n",
       "    }\n",
       "\n",
       "    .dataframe thead th {\n",
       "        text-align: right;\n",
       "    }\n",
       "</style>\n",
       "<table border=\"1\" class=\"dataframe\">\n",
       "  <thead>\n",
       "    <tr style=\"text-align: right;\">\n",
       "      <th></th>\n",
       "      <th>event_date</th>\n",
       "    </tr>\n",
       "  </thead>\n",
       "  <tbody>\n",
       "    <tr>\n",
       "      <th>0</th>\n",
       "      <td>2020/11/01</td>\n",
       "    </tr>\n",
       "    <tr>\n",
       "      <th>1</th>\n",
       "      <td>2021/01/31</td>\n",
       "    </tr>\n",
       "  </tbody>\n",
       "</table>\n",
       "</div>"
      ],
      "text/plain": [
       "   event_date\n",
       "0  2020/11/01\n",
       "1  2021/01/31"
      ]
     },
     "execution_count": 8,
     "metadata": {},
     "output_type": "execute_result"
    }
   ],
   "source": [
    "%%bigquery --use_rest_api\n",
    "(SELECT FORMAT_DATE('%Y/%m/%d', PARSE_DATE('%Y%m%d', event_date)) AS event_date \n",
    " FROM `bigquery-public-data.ga4_obfuscated_sample_ecommerce.events_*` \n",
    " ORDER BY event_date DESC \n",
    " LIMIT 1)\n",
    "\n",
    "UNION ALL\n",
    "\n",
    "(SELECT FORMAT_DATE('%Y/%m/%d', PARSE_DATE('%Y%m%d', event_date)) AS event_date \n",
    " FROM `bigquery-public-data.ga4_obfuscated_sample_ecommerce.events_*` \n",
    " ORDER BY event_date ASC \n",
    " LIMIT 1)"
   ]
  },
  {
   "cell_type": "markdown",
   "id": "c6fdbe30-2daf-439f-bc70-fe7e3ee72936",
   "metadata": {},
   "source": [
    "Latest event date is **2021/01/31** and earliest event date is **2020/11/01** ==> less than 1y data, not representative of seasonality"
   ]
  },
  {
   "cell_type": "markdown",
   "id": "a4527ffc-97e5-4399-b8da-224211ea7a64",
   "metadata": {},
   "source": [
    "### List all event_name"
   ]
  },
  {
   "cell_type": "code",
   "execution_count": 7,
   "id": "e8779b01-d11b-462a-b111-455b8935fdfd",
   "metadata": {},
   "outputs": [
    {
     "data": {
      "application/vnd.jupyter.widget-view+json": {
       "model_id": "f4f58536c3494be493a540e256e89124",
       "version_major": 2,
       "version_minor": 0
      },
      "text/plain": [
       "Query is running:   0%|          |"
      ]
     },
     "metadata": {},
     "output_type": "display_data"
    },
    {
     "data": {
      "application/vnd.jupyter.widget-view+json": {
       "model_id": "95f18c98b65144928c0f6bdac2321c6a",
       "version_major": 2,
       "version_minor": 0
      },
      "text/plain": [
       "Downloading:   0%|          |"
      ]
     },
     "metadata": {},
     "output_type": "display_data"
    },
    {
     "data": {
      "text/html": [
       "<div>\n",
       "<style scoped>\n",
       "    .dataframe tbody tr th:only-of-type {\n",
       "        vertical-align: middle;\n",
       "    }\n",
       "\n",
       "    .dataframe tbody tr th {\n",
       "        vertical-align: top;\n",
       "    }\n",
       "\n",
       "    .dataframe thead th {\n",
       "        text-align: right;\n",
       "    }\n",
       "</style>\n",
       "<table border=\"1\" class=\"dataframe\">\n",
       "  <thead>\n",
       "    <tr style=\"text-align: right;\">\n",
       "      <th></th>\n",
       "      <th>event_name</th>\n",
       "      <th>occurences</th>\n",
       "    </tr>\n",
       "  </thead>\n",
       "  <tbody>\n",
       "    <tr>\n",
       "      <th>0</th>\n",
       "      <td>page_view</td>\n",
       "      <td>1350428</td>\n",
       "    </tr>\n",
       "    <tr>\n",
       "      <th>1</th>\n",
       "      <td>user_engagement</td>\n",
       "      <td>1058721</td>\n",
       "    </tr>\n",
       "    <tr>\n",
       "      <th>2</th>\n",
       "      <td>scroll</td>\n",
       "      <td>493072</td>\n",
       "    </tr>\n",
       "    <tr>\n",
       "      <th>3</th>\n",
       "      <td>view_item</td>\n",
       "      <td>386068</td>\n",
       "    </tr>\n",
       "    <tr>\n",
       "      <th>4</th>\n",
       "      <td>session_start</td>\n",
       "      <td>354970</td>\n",
       "    </tr>\n",
       "    <tr>\n",
       "      <th>5</th>\n",
       "      <td>first_visit</td>\n",
       "      <td>257462</td>\n",
       "    </tr>\n",
       "    <tr>\n",
       "      <th>6</th>\n",
       "      <td>view_promotion</td>\n",
       "      <td>190104</td>\n",
       "    </tr>\n",
       "    <tr>\n",
       "      <th>7</th>\n",
       "      <td>add_to_cart</td>\n",
       "      <td>58543</td>\n",
       "    </tr>\n",
       "    <tr>\n",
       "      <th>8</th>\n",
       "      <td>begin_checkout</td>\n",
       "      <td>38757</td>\n",
       "    </tr>\n",
       "    <tr>\n",
       "      <th>9</th>\n",
       "      <td>select_item</td>\n",
       "      <td>31007</td>\n",
       "    </tr>\n",
       "    <tr>\n",
       "      <th>10</th>\n",
       "      <td>view_search_results</td>\n",
       "      <td>26172</td>\n",
       "    </tr>\n",
       "    <tr>\n",
       "      <th>11</th>\n",
       "      <td>add_shipping_info</td>\n",
       "      <td>19722</td>\n",
       "    </tr>\n",
       "    <tr>\n",
       "      <th>12</th>\n",
       "      <td>add_payment_info</td>\n",
       "      <td>13899</td>\n",
       "    </tr>\n",
       "    <tr>\n",
       "      <th>13</th>\n",
       "      <td>select_promotion</td>\n",
       "      <td>9450</td>\n",
       "    </tr>\n",
       "    <tr>\n",
       "      <th>14</th>\n",
       "      <td>purchase</td>\n",
       "      <td>5692</td>\n",
       "    </tr>\n",
       "    <tr>\n",
       "      <th>15</th>\n",
       "      <td>click</td>\n",
       "      <td>1446</td>\n",
       "    </tr>\n",
       "    <tr>\n",
       "      <th>16</th>\n",
       "      <td>view_item_list</td>\n",
       "      <td>71</td>\n",
       "    </tr>\n",
       "  </tbody>\n",
       "</table>\n",
       "</div>"
      ],
      "text/plain": [
       "             event_name  occurences\n",
       "0             page_view     1350428\n",
       "1       user_engagement     1058721\n",
       "2                scroll      493072\n",
       "3             view_item      386068\n",
       "4         session_start      354970\n",
       "5           first_visit      257462\n",
       "6        view_promotion      190104\n",
       "7           add_to_cart       58543\n",
       "8        begin_checkout       38757\n",
       "9           select_item       31007\n",
       "10  view_search_results       26172\n",
       "11    add_shipping_info       19722\n",
       "12     add_payment_info       13899\n",
       "13     select_promotion        9450\n",
       "14             purchase        5692\n",
       "15                click        1446\n",
       "16       view_item_list          71"
      ]
     },
     "execution_count": 7,
     "metadata": {},
     "output_type": "execute_result"
    }
   ],
   "source": [
    "%%bigquery --use_rest_api\n",
    "SELECT event_name, COUNT(*) AS occurences \n",
    "FROM `bigquery-public-data.ga4_obfuscated_sample_ecommerce.events_*` \n",
    "GROUP BY event_name \n",
    "ORDER BY occurences DESC;"
   ]
  },
  {
   "cell_type": "markdown",
   "id": "85091b45-a507-4bac-bfc4-5ced77714662",
   "metadata": {},
   "source": [
    "### Count number of distinct user"
   ]
  },
  {
   "cell_type": "code",
   "execution_count": 10,
   "id": "33e0ef8f-7853-4389-96cd-2f6d76d5357f",
   "metadata": {},
   "outputs": [
    {
     "data": {
      "application/vnd.jupyter.widget-view+json": {
       "model_id": "706fa586b5e741528ca30700279cbf9d",
       "version_major": 2,
       "version_minor": 0
      },
      "text/plain": [
       "Query is running:   0%|          |"
      ]
     },
     "metadata": {},
     "output_type": "display_data"
    },
    {
     "data": {
      "application/vnd.jupyter.widget-view+json": {
       "model_id": "b9321e1f729d435eb6596af888aa9ce9",
       "version_major": 2,
       "version_minor": 0
      },
      "text/plain": [
       "Downloading:   0%|          |"
      ]
     },
     "metadata": {},
     "output_type": "display_data"
    },
    {
     "data": {
      "text/html": [
       "<div>\n",
       "<style scoped>\n",
       "    .dataframe tbody tr th:only-of-type {\n",
       "        vertical-align: middle;\n",
       "    }\n",
       "\n",
       "    .dataframe tbody tr th {\n",
       "        vertical-align: top;\n",
       "    }\n",
       "\n",
       "    .dataframe thead th {\n",
       "        text-align: right;\n",
       "    }\n",
       "</style>\n",
       "<table border=\"1\" class=\"dataframe\">\n",
       "  <thead>\n",
       "    <tr style=\"text-align: right;\">\n",
       "      <th></th>\n",
       "      <th>number_of_user_pseudo_id</th>\n",
       "    </tr>\n",
       "  </thead>\n",
       "  <tbody>\n",
       "    <tr>\n",
       "      <th>0</th>\n",
       "      <td>270154</td>\n",
       "    </tr>\n",
       "  </tbody>\n",
       "</table>\n",
       "</div>"
      ],
      "text/plain": [
       "   number_of_user_pseudo_id\n",
       "0                    270154"
      ]
     },
     "execution_count": 10,
     "metadata": {},
     "output_type": "execute_result"
    }
   ],
   "source": [
    "%%bigquery --use_rest_api\n",
    "SELECT COUNT(DISTINCT(user_pseudo_id)) as number_of_user_pseudo_id \n",
    "FROM `bigquery-public-data.ga4_obfuscated_sample_ecommerce.events_*` "
   ]
  },
  {
   "cell_type": "markdown",
   "id": "107afb20-9905-4436-bbad-e3f5cdf1b9ee",
   "metadata": {},
   "source": [
    "### Get life time value of all users"
   ]
  },
  {
   "cell_type": "code",
   "execution_count": 17,
   "id": "707bb7f5-13d2-4540-a6db-f3484bc48167",
   "metadata": {},
   "outputs": [
    {
     "data": {
      "application/vnd.jupyter.widget-view+json": {
       "model_id": "95648732f44d4305bbde97e64cd8272f",
       "version_major": 2,
       "version_minor": 0
      },
      "text/plain": [
       "Query is running:   0%|          |"
      ]
     },
     "metadata": {},
     "output_type": "display_data"
    },
    {
     "data": {
      "application/vnd.jupyter.widget-view+json": {
       "model_id": "1f1c40b9d2c54d40aeb6085c0d139690",
       "version_major": 2,
       "version_minor": 0
      },
      "text/plain": [
       "Downloading:   0%|          |"
      ]
     },
     "metadata": {},
     "output_type": "display_data"
    },
    {
     "data": {
      "text/html": [
       "<div>\n",
       "<style scoped>\n",
       "    .dataframe tbody tr th:only-of-type {\n",
       "        vertical-align: middle;\n",
       "    }\n",
       "\n",
       "    .dataframe tbody tr th {\n",
       "        vertical-align: top;\n",
       "    }\n",
       "\n",
       "    .dataframe thead th {\n",
       "        text-align: right;\n",
       "    }\n",
       "</style>\n",
       "<table border=\"1\" class=\"dataframe\">\n",
       "  <thead>\n",
       "    <tr style=\"text-align: right;\">\n",
       "      <th></th>\n",
       "      <th>user_pseudo_id</th>\n",
       "      <th>revenue</th>\n",
       "      <th>currency</th>\n",
       "    </tr>\n",
       "  </thead>\n",
       "  <tbody>\n",
       "    <tr>\n",
       "      <th>0</th>\n",
       "      <td>2664459.3880988628</td>\n",
       "      <td>3360.0</td>\n",
       "      <td>USD</td>\n",
       "    </tr>\n",
       "    <tr>\n",
       "      <th>1</th>\n",
       "      <td>81036435.1157569602</td>\n",
       "      <td>1530.0</td>\n",
       "      <td>USD</td>\n",
       "    </tr>\n",
       "    <tr>\n",
       "      <th>2</th>\n",
       "      <td>15046526.4562004600</td>\n",
       "      <td>1424.0</td>\n",
       "      <td>USD</td>\n",
       "    </tr>\n",
       "    <tr>\n",
       "      <th>3</th>\n",
       "      <td>8083450.3844124226</td>\n",
       "      <td>1409.0</td>\n",
       "      <td>USD</td>\n",
       "    </tr>\n",
       "    <tr>\n",
       "      <th>4</th>\n",
       "      <td>8083450.3844124226</td>\n",
       "      <td>1281.0</td>\n",
       "      <td>USD</td>\n",
       "    </tr>\n",
       "    <tr>\n",
       "      <th>...</th>\n",
       "      <td>...</td>\n",
       "      <td>...</td>\n",
       "      <td>...</td>\n",
       "    </tr>\n",
       "    <tr>\n",
       "      <th>95</th>\n",
       "      <td>3883375.8924071243</td>\n",
       "      <td>517.0</td>\n",
       "      <td>USD</td>\n",
       "    </tr>\n",
       "    <tr>\n",
       "      <th>96</th>\n",
       "      <td>63264809.7446857295</td>\n",
       "      <td>516.0</td>\n",
       "      <td>USD</td>\n",
       "    </tr>\n",
       "    <tr>\n",
       "      <th>97</th>\n",
       "      <td>2808102.2330574481</td>\n",
       "      <td>516.0</td>\n",
       "      <td>USD</td>\n",
       "    </tr>\n",
       "    <tr>\n",
       "      <th>98</th>\n",
       "      <td>8083450.3844124226</td>\n",
       "      <td>514.0</td>\n",
       "      <td>USD</td>\n",
       "    </tr>\n",
       "    <tr>\n",
       "      <th>99</th>\n",
       "      <td>45732822.6958771748</td>\n",
       "      <td>514.0</td>\n",
       "      <td>USD</td>\n",
       "    </tr>\n",
       "  </tbody>\n",
       "</table>\n",
       "<p>100 rows × 3 columns</p>\n",
       "</div>"
      ],
      "text/plain": [
       "         user_pseudo_id  revenue currency\n",
       "0    2664459.3880988628   3360.0      USD\n",
       "1   81036435.1157569602   1530.0      USD\n",
       "2   15046526.4562004600   1424.0      USD\n",
       "3    8083450.3844124226   1409.0      USD\n",
       "4    8083450.3844124226   1281.0      USD\n",
       "..                  ...      ...      ...\n",
       "95   3883375.8924071243    517.0      USD\n",
       "96  63264809.7446857295    516.0      USD\n",
       "97   2808102.2330574481    516.0      USD\n",
       "98   8083450.3844124226    514.0      USD\n",
       "99  45732822.6958771748    514.0      USD\n",
       "\n",
       "[100 rows x 3 columns]"
      ]
     },
     "execution_count": 17,
     "metadata": {},
     "output_type": "execute_result"
    }
   ],
   "source": [
    "%%bigquery --use_rest_api\n",
    "SELECT\n",
    "    DISTINCT(user_pseudo_id), \n",
    "    user_ltv.revenue, \n",
    "    user_ltv.currency \n",
    "FROM `bigquery-public-data.ga4_obfuscated_sample_ecommerce.events_*`\n",
    "ORDER BY user_ltv.revenue DESC LIMIT 100"
   ]
  },
  {
   "cell_type": "markdown",
   "id": "dc52131f-6005-4c41-8cb5-a304f8b918d7",
   "metadata": {},
   "source": [
    "### How to unnest fields ?"
   ]
  },
  {
   "cell_type": "markdown",
   "id": "d0be49b5-f404-4a2c-9c47-1868c96c0018",
   "metadata": {},
   "source": [
    "To unnest a field, add `UNNEST(field_name) as variable_name`\n",
    "\n",
    "**Exemple:**"
   ]
  },
  {
   "cell_type": "code",
   "execution_count": 22,
   "id": "d0afacb8-de97-4d35-b0a8-71c72bed49f6",
   "metadata": {},
   "outputs": [
    {
     "data": {
      "application/vnd.jupyter.widget-view+json": {
       "model_id": "0ba712e079454a05b136b188665e8d57",
       "version_major": 2,
       "version_minor": 0
      },
      "text/plain": [
       "Query is running:   0%|          |"
      ]
     },
     "metadata": {},
     "output_type": "display_data"
    },
    {
     "data": {
      "application/vnd.jupyter.widget-view+json": {
       "model_id": "ae12ede2f80c40caad833ed493f49454",
       "version_major": 2,
       "version_minor": 0
      },
      "text/plain": [
       "Downloading:   0%|          |"
      ]
     },
     "metadata": {},
     "output_type": "display_data"
    },
    {
     "data": {
      "text/html": [
       "<div>\n",
       "<style scoped>\n",
       "    .dataframe tbody tr th:only-of-type {\n",
       "        vertical-align: middle;\n",
       "    }\n",
       "\n",
       "    .dataframe tbody tr th {\n",
       "        vertical-align: top;\n",
       "    }\n",
       "\n",
       "    .dataframe thead th {\n",
       "        text-align: right;\n",
       "    }\n",
       "</style>\n",
       "<table border=\"1\" class=\"dataframe\">\n",
       "  <thead>\n",
       "    <tr style=\"text-align: right;\">\n",
       "      <th></th>\n",
       "      <th>item_name</th>\n",
       "    </tr>\n",
       "  </thead>\n",
       "  <tbody>\n",
       "    <tr>\n",
       "      <th>0</th>\n",
       "      <td>Noogler Android Figure</td>\n",
       "    </tr>\n",
       "    <tr>\n",
       "      <th>1</th>\n",
       "      <td>Android Large Trace Journal Black</td>\n",
       "    </tr>\n",
       "    <tr>\n",
       "      <th>2</th>\n",
       "      <td>Google Cork Base Tumbler</td>\n",
       "    </tr>\n",
       "    <tr>\n",
       "      <th>3</th>\n",
       "      <td>YouTube Standards Zip Hoodie Black</td>\n",
       "    </tr>\n",
       "    <tr>\n",
       "      <th>4</th>\n",
       "      <td>Google Youth F/C Pullover Hoodie</td>\n",
       "    </tr>\n",
       "    <tr>\n",
       "      <th>...</th>\n",
       "      <td>...</td>\n",
       "    </tr>\n",
       "    <tr>\n",
       "      <th>95</th>\n",
       "      <td>Supernatural Paper Tote</td>\n",
       "    </tr>\n",
       "    <tr>\n",
       "      <th>96</th>\n",
       "      <td>Google Crew Striped Athletic Sock</td>\n",
       "    </tr>\n",
       "    <tr>\n",
       "      <th>97</th>\n",
       "      <td>Google Mountain View Campus Zip Hoodie</td>\n",
       "    </tr>\n",
       "    <tr>\n",
       "      <th>98</th>\n",
       "      <td>Google Sunnyvale Campus Unisex Tee</td>\n",
       "    </tr>\n",
       "    <tr>\n",
       "      <th>99</th>\n",
       "      <td>Google Incognito Zip Pack</td>\n",
       "    </tr>\n",
       "  </tbody>\n",
       "</table>\n",
       "<p>100 rows × 1 columns</p>\n",
       "</div>"
      ],
      "text/plain": [
       "                                 item_name\n",
       "0                   Noogler Android Figure\n",
       "1        Android Large Trace Journal Black\n",
       "2                 Google Cork Base Tumbler\n",
       "3       YouTube Standards Zip Hoodie Black\n",
       "4         Google Youth F/C Pullover Hoodie\n",
       "..                                     ...\n",
       "95                 Supernatural Paper Tote\n",
       "96       Google Crew Striped Athletic Sock\n",
       "97  Google Mountain View Campus Zip Hoodie\n",
       "98      Google Sunnyvale Campus Unisex Tee\n",
       "99               Google Incognito Zip Pack\n",
       "\n",
       "[100 rows x 1 columns]"
      ]
     },
     "execution_count": 22,
     "metadata": {},
     "output_type": "execute_result"
    }
   ],
   "source": [
    "%%bigquery --use_rest_api\n",
    "SELECT \n",
    "    DISTINCT(i.item_name) \n",
    "FROM `bigquery-public-data.ga4_obfuscated_sample_ecommerce.events_*`, UNNEST(items) as i\n",
    "LIMIT 100"
   ]
  },
  {
   "cell_type": "markdown",
   "id": "23e3bacf-e6da-4a03-9eda-a99aaea66a69",
   "metadata": {},
   "source": [
    "### is page location containing only links ? "
   ]
  },
  {
   "cell_type": "code",
   "execution_count": 29,
   "id": "f88b8be9-ee55-4b91-91fc-510d88f63460",
   "metadata": {},
   "outputs": [
    {
     "data": {
      "application/vnd.jupyter.widget-view+json": {
       "model_id": "23dd4ddf39e4457a86cd44db6d648291",
       "version_major": 2,
       "version_minor": 0
      },
      "text/plain": [
       "Query is running:   0%|          |"
      ]
     },
     "metadata": {},
     "output_type": "display_data"
    },
    {
     "data": {
      "application/vnd.jupyter.widget-view+json": {
       "model_id": "90be440873024a8e81f86cd19db0d96c",
       "version_major": 2,
       "version_minor": 0
      },
      "text/plain": [
       "Downloading:   0%|          |"
      ]
     },
     "metadata": {},
     "output_type": "display_data"
    },
    {
     "data": {
      "text/html": [
       "<div>\n",
       "<style scoped>\n",
       "    .dataframe tbody tr th:only-of-type {\n",
       "        vertical-align: middle;\n",
       "    }\n",
       "\n",
       "    .dataframe tbody tr th {\n",
       "        vertical-align: top;\n",
       "    }\n",
       "\n",
       "    .dataframe thead th {\n",
       "        text-align: right;\n",
       "    }\n",
       "</style>\n",
       "<table border=\"1\" class=\"dataframe\">\n",
       "  <thead>\n",
       "    <tr style=\"text-align: right;\">\n",
       "      <th></th>\n",
       "      <th>f0_</th>\n",
       "    </tr>\n",
       "  </thead>\n",
       "  <tbody>\n",
       "    <tr>\n",
       "      <th>0</th>\n",
       "      <td>0</td>\n",
       "    </tr>\n",
       "  </tbody>\n",
       "</table>\n",
       "</div>"
      ],
      "text/plain": [
       "   f0_\n",
       "0    0"
      ]
     },
     "execution_count": 29,
     "metadata": {},
     "output_type": "execute_result"
    }
   ],
   "source": [
    "%%bigquery --use_rest_api\n",
    "SELECT COUNT(*) FROM `bigquery-public-data.ga4_obfuscated_sample_ecommerce.events_*`, UNNEST(event_params) as ep\n",
    "WHERE ep.key = \"page_location\" AND ep.value.string_value NOT LIKE \"%http%\""
   ]
  },
  {
   "cell_type": "markdown",
   "id": "5cdaf2a5-ed6a-4f22-8d9a-33ac1408c2e2",
   "metadata": {},
   "source": [
    "It's look like the field contain only links "
   ]
  },
  {
   "cell_type": "markdown",
   "id": "b1bb3310-5558-47cb-b9d2-05538b01bd2a",
   "metadata": {},
   "source": [
    "### The session_engaged field is not usable"
   ]
  },
  {
   "cell_type": "code",
   "execution_count": 30,
   "id": "bccb72d4-6a47-4f5a-aaa0-ef9928edaeda",
   "metadata": {},
   "outputs": [
    {
     "data": {
      "application/vnd.jupyter.widget-view+json": {
       "model_id": "765cfaf2de244045947d7ddef3fb74a4",
       "version_major": 2,
       "version_minor": 0
      },
      "text/plain": [
       "Query is running:   0%|          |"
      ]
     },
     "metadata": {},
     "output_type": "display_data"
    },
    {
     "data": {
      "application/vnd.jupyter.widget-view+json": {
       "model_id": "5c995d3e21a34e0b8dbbc652f1996336",
       "version_major": 2,
       "version_minor": 0
      },
      "text/plain": [
       "Downloading:   0%|          |"
      ]
     },
     "metadata": {},
     "output_type": "display_data"
    },
    {
     "data": {
      "text/html": [
       "<div>\n",
       "<style scoped>\n",
       "    .dataframe tbody tr th:only-of-type {\n",
       "        vertical-align: middle;\n",
       "    }\n",
       "\n",
       "    .dataframe tbody tr th {\n",
       "        vertical-align: top;\n",
       "    }\n",
       "\n",
       "    .dataframe thead th {\n",
       "        text-align: right;\n",
       "    }\n",
       "</style>\n",
       "<table border=\"1\" class=\"dataframe\">\n",
       "  <thead>\n",
       "    <tr style=\"text-align: right;\">\n",
       "      <th></th>\n",
       "      <th>string_value</th>\n",
       "    </tr>\n",
       "  </thead>\n",
       "  <tbody>\n",
       "    <tr>\n",
       "      <th>0</th>\n",
       "      <td>0</td>\n",
       "    </tr>\n",
       "    <tr>\n",
       "      <th>1</th>\n",
       "      <td>None</td>\n",
       "    </tr>\n",
       "    <tr>\n",
       "      <th>2</th>\n",
       "      <td>1</td>\n",
       "    </tr>\n",
       "  </tbody>\n",
       "</table>\n",
       "</div>"
      ],
      "text/plain": [
       "  string_value\n",
       "0            0\n",
       "1         None\n",
       "2            1"
      ]
     },
     "execution_count": 30,
     "metadata": {},
     "output_type": "execute_result"
    }
   ],
   "source": [
    "%%bigquery --use_rest_api\n",
    "SELECT DISTINCT(ep.value.string_value) FROM `bigquery-public-data.ga4_obfuscated_sample_ecommerce.events_*`, UNNEST(event_params) as ep\n",
    "WHERE ep.key = \"session_engaged\""
   ]
  },
  {
   "cell_type": "markdown",
   "id": "6e30d0f0-1c5d-4dad-8746-27124f44b1f9",
   "metadata": {},
   "source": [
    "### Engagement time of users"
   ]
  },
  {
   "cell_type": "code",
   "execution_count": 34,
   "id": "c928c5ed-2865-4d13-a0d5-e62a03ac6319",
   "metadata": {},
   "outputs": [
    {
     "data": {
      "application/vnd.jupyter.widget-view+json": {
       "model_id": "2dbe586dd06a49789a8c692216eaf6fb",
       "version_major": 2,
       "version_minor": 0
      },
      "text/plain": [
       "Query is running:   0%|          |"
      ]
     },
     "metadata": {},
     "output_type": "display_data"
    },
    {
     "data": {
      "application/vnd.jupyter.widget-view+json": {
       "model_id": "5b69a393713b4166b54466294320e33b",
       "version_major": 2,
       "version_minor": 0
      },
      "text/plain": [
       "Downloading:   0%|          |"
      ]
     },
     "metadata": {},
     "output_type": "display_data"
    },
    {
     "data": {
      "text/html": [
       "<div>\n",
       "<style scoped>\n",
       "    .dataframe tbody tr th:only-of-type {\n",
       "        vertical-align: middle;\n",
       "    }\n",
       "\n",
       "    .dataframe tbody tr th {\n",
       "        vertical-align: top;\n",
       "    }\n",
       "\n",
       "    .dataframe thead th {\n",
       "        text-align: right;\n",
       "    }\n",
       "</style>\n",
       "<table border=\"1\" class=\"dataframe\">\n",
       "  <thead>\n",
       "    <tr style=\"text-align: right;\">\n",
       "      <th></th>\n",
       "      <th>int_value</th>\n",
       "    </tr>\n",
       "  </thead>\n",
       "  <tbody>\n",
       "    <tr>\n",
       "      <th>0</th>\n",
       "      <td>50127</td>\n",
       "    </tr>\n",
       "    <tr>\n",
       "      <th>1</th>\n",
       "      <td>1228</td>\n",
       "    </tr>\n",
       "    <tr>\n",
       "      <th>2</th>\n",
       "      <td>1036</td>\n",
       "    </tr>\n",
       "    <tr>\n",
       "      <th>3</th>\n",
       "      <td>419</td>\n",
       "    </tr>\n",
       "    <tr>\n",
       "      <th>4</th>\n",
       "      <td>578</td>\n",
       "    </tr>\n",
       "    <tr>\n",
       "      <th>...</th>\n",
       "      <td>...</td>\n",
       "    </tr>\n",
       "    <tr>\n",
       "      <th>995</th>\n",
       "      <td>6257</td>\n",
       "    </tr>\n",
       "    <tr>\n",
       "      <th>996</th>\n",
       "      <td>26439</td>\n",
       "    </tr>\n",
       "    <tr>\n",
       "      <th>997</th>\n",
       "      <td>7741</td>\n",
       "    </tr>\n",
       "    <tr>\n",
       "      <th>998</th>\n",
       "      <td>8279</td>\n",
       "    </tr>\n",
       "    <tr>\n",
       "      <th>999</th>\n",
       "      <td>21341</td>\n",
       "    </tr>\n",
       "  </tbody>\n",
       "</table>\n",
       "<p>1000 rows × 1 columns</p>\n",
       "</div>"
      ],
      "text/plain": [
       "     int_value\n",
       "0        50127\n",
       "1         1228\n",
       "2         1036\n",
       "3          419\n",
       "4          578\n",
       "..         ...\n",
       "995       6257\n",
       "996      26439\n",
       "997       7741\n",
       "998       8279\n",
       "999      21341\n",
       "\n",
       "[1000 rows x 1 columns]"
      ]
     },
     "execution_count": 34,
     "metadata": {},
     "output_type": "execute_result"
    }
   ],
   "source": [
    "%%bigquery --use_rest_api\n",
    "SELECT DISTINCT(ep.value.int_value) FROM `bigquery-public-data.ga4_obfuscated_sample_ecommerce.events_*`, UNNEST(event_params) as ep\n",
    "WHERE ep.key = \"engagement_time_msec\" LIMIT 1000"
   ]
  },
  {
   "cell_type": "markdown",
   "id": "00f5cb98-53ab-4cee-8267-6c765e01fda4",
   "metadata": {},
   "source": [
    "### Country of users"
   ]
  },
  {
   "cell_type": "code",
   "execution_count": 38,
   "id": "9076936d-e010-411b-913d-0b67f21c7854",
   "metadata": {},
   "outputs": [
    {
     "data": {
      "application/vnd.jupyter.widget-view+json": {
       "model_id": "19f2dd6e4bc3410fb7cd2e67b9d05f42",
       "version_major": 2,
       "version_minor": 0
      },
      "text/plain": [
       "Query is running:   0%|          |"
      ]
     },
     "metadata": {},
     "output_type": "display_data"
    },
    {
     "data": {
      "application/vnd.jupyter.widget-view+json": {
       "model_id": "54cce7f7aa884d7a9a65bbc3ea8f1dc1",
       "version_major": 2,
       "version_minor": 0
      },
      "text/plain": [
       "Downloading:   0%|          |"
      ]
     },
     "metadata": {},
     "output_type": "display_data"
    },
    {
     "data": {
      "text/html": [
       "<div>\n",
       "<style scoped>\n",
       "    .dataframe tbody tr th:only-of-type {\n",
       "        vertical-align: middle;\n",
       "    }\n",
       "\n",
       "    .dataframe tbody tr th {\n",
       "        vertical-align: top;\n",
       "    }\n",
       "\n",
       "    .dataframe thead th {\n",
       "        text-align: right;\n",
       "    }\n",
       "</style>\n",
       "<table border=\"1\" class=\"dataframe\">\n",
       "  <thead>\n",
       "    <tr style=\"text-align: right;\">\n",
       "      <th></th>\n",
       "      <th>country</th>\n",
       "      <th>num_orders</th>\n",
       "    </tr>\n",
       "  </thead>\n",
       "  <tbody>\n",
       "    <tr>\n",
       "      <th>0</th>\n",
       "      <td>United States</td>\n",
       "      <td>26180</td>\n",
       "    </tr>\n",
       "    <tr>\n",
       "      <th>1</th>\n",
       "      <td>India</td>\n",
       "      <td>5263</td>\n",
       "    </tr>\n",
       "    <tr>\n",
       "      <th>2</th>\n",
       "      <td>Canada</td>\n",
       "      <td>4617</td>\n",
       "    </tr>\n",
       "    <tr>\n",
       "      <th>3</th>\n",
       "      <td>United Kingdom</td>\n",
       "      <td>1764</td>\n",
       "    </tr>\n",
       "    <tr>\n",
       "      <th>4</th>\n",
       "      <td>Spain</td>\n",
       "      <td>1251</td>\n",
       "    </tr>\n",
       "    <tr>\n",
       "      <th>...</th>\n",
       "      <td>...</td>\n",
       "      <td>...</td>\n",
       "    </tr>\n",
       "    <tr>\n",
       "      <th>104</th>\n",
       "      <td>Latvia</td>\n",
       "      <td>3</td>\n",
       "    </tr>\n",
       "    <tr>\n",
       "      <th>105</th>\n",
       "      <td>Lebanon</td>\n",
       "      <td>2</td>\n",
       "    </tr>\n",
       "    <tr>\n",
       "      <th>106</th>\n",
       "      <td>Kosovo</td>\n",
       "      <td>2</td>\n",
       "    </tr>\n",
       "    <tr>\n",
       "      <th>107</th>\n",
       "      <td>Honduras</td>\n",
       "      <td>2</td>\n",
       "    </tr>\n",
       "    <tr>\n",
       "      <th>108</th>\n",
       "      <td>Myanmar (Burma)</td>\n",
       "      <td>2</td>\n",
       "    </tr>\n",
       "  </tbody>\n",
       "</table>\n",
       "<p>109 rows × 2 columns</p>\n",
       "</div>"
      ],
      "text/plain": [
       "             country  num_orders\n",
       "0      United States       26180\n",
       "1              India        5263\n",
       "2             Canada        4617\n",
       "3     United Kingdom        1764\n",
       "4              Spain        1251\n",
       "..               ...         ...\n",
       "104           Latvia           3\n",
       "105          Lebanon           2\n",
       "106           Kosovo           2\n",
       "107         Honduras           2\n",
       "108  Myanmar (Burma)           2\n",
       "\n",
       "[109 rows x 2 columns]"
      ]
     },
     "execution_count": 38,
     "metadata": {},
     "output_type": "execute_result"
    }
   ],
   "source": [
    "%%bigquery --use_rest_api\n",
    "SELECT geo.country, COUNT(*) as num_orders FROM `bigquery-public-data.ga4_obfuscated_sample_ecommerce.events_*`\n",
    "WHERE event_name = \"add_to_cart\"\n",
    "GROUP BY geo.country\n",
    "ORDER BY num_orders DESC"
   ]
  },
  {
   "cell_type": "markdown",
   "id": "07c0cdce-bf25-4a7e-97ed-0d3ce89e11ce",
   "metadata": {},
   "source": [
    "### List page location"
   ]
  },
  {
   "cell_type": "code",
   "execution_count": 46,
   "id": "5e10019d-9434-416c-ba34-dc68a6c82235",
   "metadata": {},
   "outputs": [
    {
     "data": {
      "application/vnd.jupyter.widget-view+json": {
       "model_id": "54029bd4c5314f12ad7fc63d4192fd5a",
       "version_major": 2,
       "version_minor": 0
      },
      "text/plain": [
       "Query is running:   0%|          |"
      ]
     },
     "metadata": {},
     "output_type": "display_data"
    },
    {
     "data": {
      "application/vnd.jupyter.widget-view+json": {
       "model_id": "0095260ea18241ed918f1e0d7c6756cd",
       "version_major": 2,
       "version_minor": 0
      },
      "text/plain": [
       "Downloading:   0%|          |"
      ]
     },
     "metadata": {},
     "output_type": "display_data"
    },
    {
     "data": {
      "text/html": [
       "<div>\n",
       "<style scoped>\n",
       "    .dataframe tbody tr th:only-of-type {\n",
       "        vertical-align: middle;\n",
       "    }\n",
       "\n",
       "    .dataframe tbody tr th {\n",
       "        vertical-align: top;\n",
       "    }\n",
       "\n",
       "    .dataframe thead th {\n",
       "        text-align: right;\n",
       "    }\n",
       "</style>\n",
       "<table border=\"1\" class=\"dataframe\">\n",
       "  <thead>\n",
       "    <tr style=\"text-align: right;\">\n",
       "      <th></th>\n",
       "      <th>string_value</th>\n",
       "      <th>num</th>\n",
       "    </tr>\n",
       "  </thead>\n",
       "  <tbody>\n",
       "    <tr>\n",
       "      <th>0</th>\n",
       "      <td>https://shop.googlemerchandisestore.com/Google...</td>\n",
       "      <td>9167</td>\n",
       "    </tr>\n",
       "    <tr>\n",
       "      <th>1</th>\n",
       "      <td>https://shop.googlemerchandisestore.com/Google...</td>\n",
       "      <td>7690</td>\n",
       "    </tr>\n",
       "    <tr>\n",
       "      <th>2</th>\n",
       "      <td>https://shop.googlemerchandisestore.com/store....</td>\n",
       "      <td>6532</td>\n",
       "    </tr>\n",
       "    <tr>\n",
       "      <th>3</th>\n",
       "      <td>https://shop.googlemerchandisestore.com/Google...</td>\n",
       "      <td>3802</td>\n",
       "    </tr>\n",
       "    <tr>\n",
       "      <th>4</th>\n",
       "      <td>https://shop.googlemerchandisestore.com/Google...</td>\n",
       "      <td>3076</td>\n",
       "    </tr>\n",
       "    <tr>\n",
       "      <th>5</th>\n",
       "      <td>https://shop.googlemerchandisestore.com/Google...</td>\n",
       "      <td>2931</td>\n",
       "    </tr>\n",
       "    <tr>\n",
       "      <th>6</th>\n",
       "      <td>https://shop.googlemerchandisestore.com/Google...</td>\n",
       "      <td>2863</td>\n",
       "    </tr>\n",
       "    <tr>\n",
       "      <th>7</th>\n",
       "      <td>https://shop.googlemerchandisestore.com/Google...</td>\n",
       "      <td>1972</td>\n",
       "    </tr>\n",
       "    <tr>\n",
       "      <th>8</th>\n",
       "      <td>https://shop.googlemerchandisestore.com/Google...</td>\n",
       "      <td>1914</td>\n",
       "    </tr>\n",
       "    <tr>\n",
       "      <th>9</th>\n",
       "      <td>https://shop.googlemerchandisestore.com/asearc...</td>\n",
       "      <td>1825</td>\n",
       "    </tr>\n",
       "    <tr>\n",
       "      <th>10</th>\n",
       "      <td>https://shop.googlemerchandisestore.com/Google...</td>\n",
       "      <td>1796</td>\n",
       "    </tr>\n",
       "    <tr>\n",
       "      <th>11</th>\n",
       "      <td>https://shop.googlemerchandisestore.com/Google...</td>\n",
       "      <td>1753</td>\n",
       "    </tr>\n",
       "    <tr>\n",
       "      <th>12</th>\n",
       "      <td>https://shop.googlemerchandisestore.com/Google...</td>\n",
       "      <td>1499</td>\n",
       "    </tr>\n",
       "    <tr>\n",
       "      <th>13</th>\n",
       "      <td>https://shop.googlemerchandisestore.com/Google...</td>\n",
       "      <td>1494</td>\n",
       "    </tr>\n",
       "    <tr>\n",
       "      <th>14</th>\n",
       "      <td>https://shop.googlemerchandisestore.com/Google...</td>\n",
       "      <td>1411</td>\n",
       "    </tr>\n",
       "    <tr>\n",
       "      <th>15</th>\n",
       "      <td>https://shop.googlemerchandisestore.com/Google...</td>\n",
       "      <td>1337</td>\n",
       "    </tr>\n",
       "    <tr>\n",
       "      <th>16</th>\n",
       "      <td>https://shop.googlemerchandisestore.com/Google...</td>\n",
       "      <td>1324</td>\n",
       "    </tr>\n",
       "    <tr>\n",
       "      <th>17</th>\n",
       "      <td>https://shop.googlemerchandisestore.com/Google...</td>\n",
       "      <td>1257</td>\n",
       "    </tr>\n",
       "    <tr>\n",
       "      <th>18</th>\n",
       "      <td>https://shop.googlemerchandisestore.com/Google...</td>\n",
       "      <td>1005</td>\n",
       "    </tr>\n",
       "    <tr>\n",
       "      <th>19</th>\n",
       "      <td>https://shop.googlemerchandisestore.com/Google...</td>\n",
       "      <td>889</td>\n",
       "    </tr>\n",
       "    <tr>\n",
       "      <th>20</th>\n",
       "      <td>https://shop.googlemerchandisestore.com/Google...</td>\n",
       "      <td>852</td>\n",
       "    </tr>\n",
       "    <tr>\n",
       "      <th>21</th>\n",
       "      <td>https://shop.googlemerchandisestore.com/Google...</td>\n",
       "      <td>539</td>\n",
       "    </tr>\n",
       "    <tr>\n",
       "      <th>22</th>\n",
       "      <td>https://shop.googlemerchandisestore.com/Google...</td>\n",
       "      <td>473</td>\n",
       "    </tr>\n",
       "    <tr>\n",
       "      <th>23</th>\n",
       "      <td>https://shop.googlemerchandisestore.com/Google...</td>\n",
       "      <td>454</td>\n",
       "    </tr>\n",
       "    <tr>\n",
       "      <th>24</th>\n",
       "      <td>https://shop.googlemerchandisestore.com/Google...</td>\n",
       "      <td>400</td>\n",
       "    </tr>\n",
       "    <tr>\n",
       "      <th>25</th>\n",
       "      <td>https://shop.googlemerchandisestore.com/Google...</td>\n",
       "      <td>61</td>\n",
       "    </tr>\n",
       "    <tr>\n",
       "      <th>26</th>\n",
       "      <td>https://shop.googlemerchandisestore.com/Google...</td>\n",
       "      <td>57</td>\n",
       "    </tr>\n",
       "    <tr>\n",
       "      <th>27</th>\n",
       "      <td>https://shop.googlemerchandisestore.com/Google...</td>\n",
       "      <td>38</td>\n",
       "    </tr>\n",
       "    <tr>\n",
       "      <th>28</th>\n",
       "      <td>https://shop.googlemerchandisestore.com/Google...</td>\n",
       "      <td>35</td>\n",
       "    </tr>\n",
       "    <tr>\n",
       "      <th>29</th>\n",
       "      <td>https://shop.googlemerchandisestore.com/Google...</td>\n",
       "      <td>24</td>\n",
       "    </tr>\n",
       "    <tr>\n",
       "      <th>30</th>\n",
       "      <td>https://shop.googlemerchandisestore.com/Google...</td>\n",
       "      <td>23</td>\n",
       "    </tr>\n",
       "    <tr>\n",
       "      <th>31</th>\n",
       "      <td>https://shop.googlemerchandisestore.com/Google...</td>\n",
       "      <td>22</td>\n",
       "    </tr>\n",
       "    <tr>\n",
       "      <th>32</th>\n",
       "      <td>https://shop.googlemerchandisestore.com/Google...</td>\n",
       "      <td>13</td>\n",
       "    </tr>\n",
       "    <tr>\n",
       "      <th>33</th>\n",
       "      <td>https://shop.googlemerchandisestore.com/Google...</td>\n",
       "      <td>4</td>\n",
       "    </tr>\n",
       "    <tr>\n",
       "      <th>34</th>\n",
       "      <td>https://shop.googlemerchandisestore.com/BLM</td>\n",
       "      <td>4</td>\n",
       "    </tr>\n",
       "    <tr>\n",
       "      <th>35</th>\n",
       "      <td>https://shop.googlemerchandisestore.com/Google...</td>\n",
       "      <td>3</td>\n",
       "    </tr>\n",
       "    <tr>\n",
       "      <th>36</th>\n",
       "      <td>https://shop.googlemerchandisestore.com/Google...</td>\n",
       "      <td>2</td>\n",
       "    </tr>\n",
       "    <tr>\n",
       "      <th>37</th>\n",
       "      <td>https://shop.googlemerchandisestore.com/Google...</td>\n",
       "      <td>1</td>\n",
       "    </tr>\n",
       "    <tr>\n",
       "      <th>38</th>\n",
       "      <td>https://shop.googlemerchandisestore.com/Google...</td>\n",
       "      <td>1</td>\n",
       "    </tr>\n",
       "  </tbody>\n",
       "</table>\n",
       "</div>"
      ],
      "text/plain": [
       "                                         string_value   num\n",
       "0   https://shop.googlemerchandisestore.com/Google...  9167\n",
       "1   https://shop.googlemerchandisestore.com/Google...  7690\n",
       "2   https://shop.googlemerchandisestore.com/store....  6532\n",
       "3   https://shop.googlemerchandisestore.com/Google...  3802\n",
       "4   https://shop.googlemerchandisestore.com/Google...  3076\n",
       "5   https://shop.googlemerchandisestore.com/Google...  2931\n",
       "6   https://shop.googlemerchandisestore.com/Google...  2863\n",
       "7   https://shop.googlemerchandisestore.com/Google...  1972\n",
       "8   https://shop.googlemerchandisestore.com/Google...  1914\n",
       "9   https://shop.googlemerchandisestore.com/asearc...  1825\n",
       "10  https://shop.googlemerchandisestore.com/Google...  1796\n",
       "11  https://shop.googlemerchandisestore.com/Google...  1753\n",
       "12  https://shop.googlemerchandisestore.com/Google...  1499\n",
       "13  https://shop.googlemerchandisestore.com/Google...  1494\n",
       "14  https://shop.googlemerchandisestore.com/Google...  1411\n",
       "15  https://shop.googlemerchandisestore.com/Google...  1337\n",
       "16  https://shop.googlemerchandisestore.com/Google...  1324\n",
       "17  https://shop.googlemerchandisestore.com/Google...  1257\n",
       "18  https://shop.googlemerchandisestore.com/Google...  1005\n",
       "19  https://shop.googlemerchandisestore.com/Google...   889\n",
       "20  https://shop.googlemerchandisestore.com/Google...   852\n",
       "21  https://shop.googlemerchandisestore.com/Google...   539\n",
       "22  https://shop.googlemerchandisestore.com/Google...   473\n",
       "23  https://shop.googlemerchandisestore.com/Google...   454\n",
       "24  https://shop.googlemerchandisestore.com/Google...   400\n",
       "25  https://shop.googlemerchandisestore.com/Google...    61\n",
       "26  https://shop.googlemerchandisestore.com/Google...    57\n",
       "27  https://shop.googlemerchandisestore.com/Google...    38\n",
       "28  https://shop.googlemerchandisestore.com/Google...    35\n",
       "29  https://shop.googlemerchandisestore.com/Google...    24\n",
       "30  https://shop.googlemerchandisestore.com/Google...    23\n",
       "31  https://shop.googlemerchandisestore.com/Google...    22\n",
       "32  https://shop.googlemerchandisestore.com/Google...    13\n",
       "33  https://shop.googlemerchandisestore.com/Google...     4\n",
       "34        https://shop.googlemerchandisestore.com/BLM     4\n",
       "35  https://shop.googlemerchandisestore.com/Google...     3\n",
       "36  https://shop.googlemerchandisestore.com/Google...     2\n",
       "37  https://shop.googlemerchandisestore.com/Google...     1\n",
       "38  https://shop.googlemerchandisestore.com/Google...     1"
      ]
     },
     "execution_count": 46,
     "metadata": {},
     "output_type": "execute_result"
    }
   ],
   "source": [
    "%%bigquery --use_rest_api\n",
    "SELECT ep.value.string_value, COUNT(*) AS num FROM `bigquery-public-data.ga4_obfuscated_sample_ecommerce.events_*`, UNNEST(event_params) as ep\n",
    "WHERE event_name = \"add_to_cart\" AND ep.key = \"page_location\"\n",
    "GROUP BY ep.value.string_value\n",
    "ORDER BY num DESC"
   ]
  }
 ],
 "metadata": {
  "environment": {
   "kernel": "python3",
   "name": "common-cpu.m103",
   "type": "gcloud",
   "uri": "gcr.io/deeplearning-platform-release/base-cpu:m103"
  },
  "kernelspec": {
   "display_name": "Python 3",
   "language": "python",
   "name": "python3"
  },
  "language_info": {
   "codemirror_mode": {
    "name": "ipython",
    "version": 3
   },
   "file_extension": ".py",
   "mimetype": "text/x-python",
   "name": "python",
   "nbconvert_exporter": "python",
   "pygments_lexer": "ipython3",
   "version": "3.7.12"
  }
 },
 "nbformat": 4,
 "nbformat_minor": 5
}
